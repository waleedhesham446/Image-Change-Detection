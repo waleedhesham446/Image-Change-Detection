{
 "cells": [
  {
   "cell_type": "code",
   "execution_count": 2,
   "metadata": {},
   "outputs": [],
   "source": [
    "import os\n",
    "import cv2\n",
    "import numpy as np\n",
    "from scipy.linalg import eigh\n",
    "from sklearn.cluster import KMeans\n",
    "from traditional_utils import *"
   ]
  },
  {
   "cell_type": "code",
   "execution_count": 3,
   "metadata": {},
   "outputs": [
    {
     "name": "stdout",
     "output_type": "stream",
     "text": [
      "3895\n"
     ]
    }
   ],
   "source": [
    "# Read images from folders A and B\n",
    "imagesA = []\n",
    "imagesB = []\n",
    "labels = []\n",
    "\n",
    "for i in range(4868):\n",
    "    if os.path.exists('./dataset/train/A/'+str(i).zfill(4)+'.png'):\n",
    "        imgA = cv2.imread('./dataset/train/A/'+str(i).zfill(4)+'.png', cv2.IMREAD_COLOR)\n",
    "        # imgG = cv2.cvtColor(imgA, cv2.COLOR_BGR2GRAY)\n",
    "        \n",
    "        imagesA.append(imgA)\n",
    "\n",
    "print(len(imagesA))"
   ]
  },
  {
   "cell_type": "code",
   "execution_count": 4,
   "metadata": {},
   "outputs": [
    {
     "name": "stdout",
     "output_type": "stream",
     "text": [
      "3895\n"
     ]
    }
   ],
   "source": [
    "for i in range(4868):\n",
    "    if os.path.exists('./dataset/train/B/'+str(i).zfill(4)+'.png'):\n",
    "        imgB = cv2.imread('./dataset/train/B/'+str(i).zfill(4)+'.png', cv2.IMREAD_COLOR)\n",
    "        # imgG = cv2.cvtColor(imgB, cv2.COLOR_BGR2GRAY)\n",
    "        \n",
    "        imagesB.append(imgB)\n",
    "\n",
    "print(len(imagesB))"
   ]
  },
  {
   "cell_type": "code",
   "execution_count": 5,
   "metadata": {},
   "outputs": [
    {
     "name": "stdout",
     "output_type": "stream",
     "text": [
      "3895\n"
     ]
    }
   ],
   "source": [
    "for i in range(4868):\n",
    "    if os.path.exists('./dataset/train/OUT/'+str(i).zfill(4)+'.png'):\n",
    "        label = cv2.imread('./dataset/train/OUT/'+str(i).zfill(4)+'.png', cv2.IMREAD_COLOR)\n",
    "        # imgG = cv2.cvtColor(label, cv2.COLOR_BGR2GRAY)\n",
    "        \n",
    "        labels.append(label)\n",
    "\n",
    "print(len(labels))"
   ]
  },
  {
   "cell_type": "code",
   "execution_count": 43,
   "metadata": {},
   "outputs": [],
   "source": [
    "def pca_kmeans(imgA, imgB, block_size, rate=0.9):\n",
    "\n",
    "    # Calculate the image size and padding size\n",
    "    image_size = imgA.shape\n",
    "    padding_size = np.array(image_size) + block_size\n",
    "    padding_size[2] = padding_size[2] - block_size\n",
    "\n",
    "    # Calculate the difference image\n",
    "    diff = imgB.astype(float) - imgA.astype(float)\n",
    "\n",
    "    # Padding\n",
    "    padding_img = np.zeros(padding_size, dtype=diff.dtype)\n",
    "    ub_col = block_size // 2 + image_size[0] - 1\n",
    "    ub_row = block_size // 2 + image_size[1] - 1\n",
    "    padding_img[block_size // 2:ub_col + 1, block_size // 2:ub_row + 1, :] = diff\n",
    "\n",
    "    # Generate feature vector for blocks\n",
    "    feature_vector = np.zeros((image_size[0] * image_size[1], image_size[2] * block_size * block_size))\n",
    "    for k1 in range(image_size[0]):\n",
    "        for k2 in range(image_size[1]):\n",
    "            temp_feature_vector = padding_img[k1:k1 + block_size, k2:k2 + block_size, :]\n",
    "            feature_vector[k1 * image_size[1] + k2, :] = temp_feature_vector.reshape(-1)\n",
    "\n",
    "    # Normalization\n",
    "    mean_val = np.mean(feature_vector, axis=0)\n",
    "    std_val = np.std(feature_vector, axis=0) + 1e-12\n",
    "    feature_vector = (feature_vector - mean_val) / std_val\n",
    "\n",
    "    # PCA\n",
    "    cov = np.dot(feature_vector.T, feature_vector) # Covariance matrix\n",
    "    val, vec = eigh(cov) # Eigenvalues and eigenvectors\n",
    "    val = val[::-1] # Reverse the order\n",
    "    vec = vec[:, ::-1] # Reverse the order\n",
    "    for k1 in range(len(val)):\n",
    "        if sum(val[k1:]) >= rate * sum(val): # Select the number of principal components\n",
    "            break\n",
    "    vec = vec[:, k1:] # Select the principal components\n",
    "    feature = np.dot(feature_vector, vec) # Feature vector after PCA\n",
    "\n",
    "    # k-means\n",
    "    kmeans = KMeans(n_clusters=2) # 2 clusters\n",
    "    label = kmeans.fit_predict(feature) # Cluster labels\n",
    "    change_map = label.reshape(image_size[1], image_size[0]).T # Change map\n",
    "    if len(change_map[change_map == 0]) > len(change_map[change_map == 1]): # Determine the label of the change area (Assuming most aren't changed)\n",
    "        change_map[change_map == 0] = 0 \n",
    "        change_map[change_map == 1] = 255\n",
    "    else:\n",
    "        change_map[change_map == 0] = 255\n",
    "        change_map[change_map == 1] = 0\n",
    "\n",
    "    return change_map"
   ]
  },
  {
   "cell_type": "code",
   "execution_count": 44,
   "metadata": {},
   "outputs": [
    {
     "name": "stdout",
     "output_type": "stream",
     "text": [
      "(256, 256)\n"
     ]
    }
   ],
   "source": [
    "diff = pca_kmeans(imagesA[0], imagesB[0], 5)\n",
    "print(diff.shape)"
   ]
  },
  {
   "cell_type": "code",
   "execution_count": 45,
   "metadata": {},
   "outputs": [],
   "source": [
    "import matplotlib.pyplot as plt\n",
    "# convert diff to be 0 or 1\n",
    "diff = diff.astype(np.uint8)\n",
    "np.unique(diff)\n",
    "\n",
    "cv2.imshow('diff', diff)\n",
    "cv2.waitKey(0)\n",
    "cv2.destroyAllWindows()\n",
    "\n",
    "diff[diff == 0] = 0\n",
    "diff[diff == 255] = 1\n",
    "\n"
   ]
  },
  {
   "cell_type": "code",
   "execution_count": 32,
   "metadata": {},
   "outputs": [
    {
     "name": "stdout",
     "output_type": "stream",
     "text": [
      "0.004675984752223634\n"
     ]
    }
   ],
   "source": [
    "# Calculate thejacard index\n",
    "label = labels[0]\n",
    "label = cv2.cvtColor(label, cv2.COLOR_BGR2GRAY)\n",
    "\n",
    "label[label == 0] = 0\n",
    "label[label == 255] = 1\n",
    "\n",
    "jaccard_index =  compute_iou(diff, label)\n",
    "print(jaccard_index)"
   ]
  },
  {
   "cell_type": "code",
   "execution_count": 46,
   "metadata": {},
   "outputs": [],
   "source": [
    "def detect_edges(image):\n",
    "\n",
    "    image = image.astype(np.uint8)\n",
    "\n",
    "    # Step 2: Preprocess the Image\n",
    "    # gray = cv2.cvtColor(image, cv2.COLOR_BGR2GRAY)\n",
    "    blurred = cv2.GaussianBlur(image, (5, 5), 0)\n",
    "\n",
    "    # Step 3: Edge Detection\n",
    "    edges = cv2.Canny(blurred, 50, 150)\n",
    "\n",
    "    # Step 4: Find Contours\n",
    "    contours, _ = cv2.findContours(edges, cv2.RETR_TREE, cv2.CHAIN_APPROX_SIMPLE)\n",
    "\n",
    "    # Create a copy of the original image to draw contours\n",
    "    contour_image = image.copy()\n",
    "\n",
    "    # Step 5: Filter Contours and Draw\n",
    "    for contour in contours:\n",
    "        # Approximate the contour to a polygon\n",
    "        epsilon = 0.02 * cv2.arcLength(contour, True)\n",
    "        approx = cv2.approxPolyDP(contour, epsilon, True)\n",
    "        \n",
    "        # Filter based on the number of sides (rectangles and circular shapes)\n",
    "        if len(approx) >= 4:\n",
    "            # Draw the contour on the image\n",
    "            cv2.drawContours(contour_image, [approx], -1, (0, 255, 0), 2)\n",
    "            \n",
    "    return contour_image"
   ]
  },
  {
   "cell_type": "code",
   "execution_count": 47,
   "metadata": {},
   "outputs": [
    {
     "name": "stdout",
     "output_type": "stream",
     "text": [
      "0 100 200 300 400 500 600 700 800 900 1000 1100 1200 1300 1400 1500 1600 1700 1800 1900 2000 2100 2200 2300 2400 2500 2600 2700 2800 2900 3000 3100 3200 3300 3400 3500 3600 3700 3800 0.040058448642159454\n"
     ]
    }
   ],
   "source": [
    "jaccard = 0\n",
    "i = 0\n",
    "for imgA, imgB, label in zip(imagesA, imagesB, labels):\n",
    "    diff = pca_kmeans(imgA, imgB, 5)\n",
    "    diff = detect_edges(diff)\n",
    "    diff = diff.astype(np.uint8)\n",
    "    diff[diff == 0] = 0\n",
    "    diff[diff == 255] = 1\n",
    "    label[label == 0] = 0\n",
    "    label[label == 255] = 1\n",
    "\n",
    "    label = cv2.cvtColor(label, cv2.COLOR_BGR2GRAY)\n",
    "    jaccard_index =  compute_iou(diff, label)\n",
    "    jaccard += jaccard_index\n",
    "    print(f'{i} ' if i % 100 == 0 else '', end='')\n",
    "    i += 1\n",
    "    \n",
    "print(jaccard/len(imagesA))"
   ]
  },
  {
   "cell_type": "code",
   "execution_count": 48,
   "metadata": {},
   "outputs": [
    {
     "name": "stdout",
     "output_type": "stream",
     "text": [
      "973\n"
     ]
    }
   ],
   "source": [
    "# Read images from folders A and B\n",
    "valA = []\n",
    "valB = []\n",
    "valLabels = []\n",
    "\n",
    "for i in range(4868):\n",
    "    if os.path.exists('./dataset/val/A/'+str(i).zfill(4)+'.png'):\n",
    "        imgA = cv2.imread('./dataset/val/A/'+str(i).zfill(4)+'.png', cv2.IMREAD_COLOR)\n",
    "        # imgG = cv2.cvtColor(imgA, cv2.COLOR_BGR2GRAY)\n",
    "        \n",
    "        valA.append(imgA)\n",
    "\n",
    "print(len(valA))"
   ]
  },
  {
   "cell_type": "code",
   "execution_count": 49,
   "metadata": {},
   "outputs": [
    {
     "name": "stdout",
     "output_type": "stream",
     "text": [
      "973\n"
     ]
    }
   ],
   "source": [
    "for i in range(4868):\n",
    "    if os.path.exists('./dataset/val/B/'+str(i).zfill(4)+'.png'):\n",
    "        imgB = cv2.imread('./dataset/val/B/'+str(i).zfill(4)+'.png', cv2.IMREAD_COLOR)\n",
    "        # imgG = cv2.cvtColor(imgB, cv2.COLOR_BGR2GRAY)\n",
    "        \n",
    "        valB.append(imgB)\n",
    "\n",
    "print(len(valB))"
   ]
  },
  {
   "cell_type": "code",
   "execution_count": 50,
   "metadata": {},
   "outputs": [
    {
     "name": "stdout",
     "output_type": "stream",
     "text": [
      "973\n"
     ]
    }
   ],
   "source": [
    "for i in range(4868):\n",
    "    if os.path.exists('./dataset/val/OUT/'+str(i).zfill(4)+'.png'):\n",
    "        label = cv2.imread('./dataset/val/OUT/'+str(i).zfill(4)+'.png', cv2.IMREAD_COLOR)\n",
    "        # imgG = cv2.cvtColor(label, cv2.COLOR_BGR2GRAY)\n",
    "        \n",
    "        valLabels.append(label)\n",
    "\n",
    "print(len(valLabels))"
   ]
  },
  {
   "cell_type": "code",
   "execution_count": 52,
   "metadata": {},
   "outputs": [
    {
     "name": "stdout",
     "output_type": "stream",
     "text": [
      "0 100 200 300 400 500 600 700 800 900 0.01110049140609563\n"
     ]
    }
   ],
   "source": [
    "jaccard = 0\n",
    "i = 0\n",
    "for imgA, imgB, label in zip(valA, valB, valLabels):\n",
    "    diff = pca_kmeans(imgA, imgB, 5)\n",
    "    diff = diff.astype(np.uint8)\n",
    "    diff[diff == 0] = 0\n",
    "    diff[diff == 255] = 1\n",
    "    label[label == 0] = 0\n",
    "    label[label == 255] = 1\n",
    "\n",
    "    label = cv2.cvtColor(label, cv2.COLOR_BGR2GRAY)\n",
    "    jaccard_index =  compute_iou(diff, label)\n",
    "    jaccard += jaccard_index\n",
    "    print(f'{i} ' if i % 100 == 0 else '', end='')\n",
    "    i += 1\n",
    "    \n",
    "print(jaccard/len(imagesA))"
   ]
  },
  {
   "cell_type": "code",
   "execution_count": 53,
   "metadata": {},
   "outputs": [
    {
     "name": "stdout",
     "output_type": "stream",
     "text": [
      "0 100 200 300 400 500 600 700 800 900 0.00968862030786207\n"
     ]
    }
   ],
   "source": [
    "jaccard = 0\n",
    "i = 0\n",
    "for imgA, imgB, label in zip(valA, valB, valLabels):\n",
    "    diff = pca_kmeans(imgA, imgB, 5)\n",
    "    diff = detect_edges(diff)\n",
    "    diff = diff.astype(np.uint8)\n",
    "    diff[diff == 0] = 0\n",
    "    diff[diff == 255] = 1\n",
    "    label[label == 0] = 0\n",
    "    label[label == 255] = 1\n",
    "\n",
    "    label = cv2.cvtColor(label, cv2.COLOR_BGR2GRAY)\n",
    "    jaccard_index =  compute_iou(diff, label)\n",
    "    jaccard += jaccard_index\n",
    "    print(f'{i} ' if i % 100 == 0 else '', end='')\n",
    "    i += 1\n",
    "    \n",
    "print(jaccard/len(imagesA))"
   ]
  },
  {
   "cell_type": "code",
   "execution_count": null,
   "metadata": {},
   "outputs": [],
   "source": []
  }
 ],
 "metadata": {
  "kernelspec": {
   "display_name": "base",
   "language": "python",
   "name": "python3"
  },
  "language_info": {
   "codemirror_mode": {
    "name": "ipython",
    "version": 3
   },
   "file_extension": ".py",
   "mimetype": "text/x-python",
   "name": "python",
   "nbconvert_exporter": "python",
   "pygments_lexer": "ipython3",
   "version": "3.9.18"
  }
 },
 "nbformat": 4,
 "nbformat_minor": 2
}
